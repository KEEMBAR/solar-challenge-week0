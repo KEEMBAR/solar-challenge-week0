{
 "cells": [
  {
   "cell_type": "markdown",
   "id": "0c334a51",
   "metadata": {},
   "source": [
    "# Task-3 "
   ]
  },
  {
   "cell_type": "code",
   "execution_count": null,
   "id": "c0088555",
   "metadata": {},
   "outputs": [],
   "source": [
    "import pandas as pd\n",
    "import matplotlib.pyplot as plt\n",
    "import seaborn as sns\n",
    "from scipy.stats import f_oneway, kruskal\n",
    "\n",
    "# Load cleaned datasets\n",
    "df_benin = pd.read_csv('../../data/clean/benin_clean.csv')\n",
    "df_togo = pd.read_csv('../../data/clean/togo_clean.csv')\n",
    "df_sierra = pd.read_csv('../../data/clean/sierra_leone_clean.csv')\n",
    "\n",
    "# Add a country column for easier plotting\n",
    "df_benin['Country'] = 'Benin'\n",
    "df_togo['Country'] = 'Togo'\n",
    "df_sierra['Country'] = 'Sierra Leone'\n",
    "\n",
    "# Combine all dataframes into one\n",
    "df_all = pd.concat([df_benin, df_togo, df_sierra], ignore_index=True)\n"
   ]
  },
  {
   "cell_type": "markdown",
   "id": "a81e3f4b",
   "metadata": {},
   "source": [
    "# Metric Comparison with Boxplots"
   ]
  },
  {
   "cell_type": "code",
   "execution_count": null,
   "id": "d3d2291b",
   "metadata": {},
   "outputs": [],
   "source": [
    "# Set style\n",
    "sns.set(style=\"whitegrid\")\n",
    "\n",
    "# Create boxplots for GHI, DNI, and DHI\n",
    "for metric in ['GHI', 'DNI', 'DHI']:\n",
    "    plt.figure(figsize=(8, 5))\n",
    "    ax = sns.boxplot(x='Country', y=metric, hue='Country', data=df_all, palette='Set2')\n",
    "    \n",
    "    # Check if a legend exists, then remove it\n",
    "    if ax.get_legend() is not None:\n",
    "        ax.get_legend().remove()\n",
    "        \n",
    "    plt.title(f'Boxplot of {metric} by Country')\n",
    "    plt.xlabel('Country')\n",
    "    plt.ylabel(metric)\n",
    "    plt.tight_layout()\n",
    "    plt.show()\n"
   ]
  },
  {
   "cell_type": "markdown",
   "id": "0aeb7c80",
   "metadata": {},
   "source": [
    "# Metric Comparison with Summary Table "
   ]
  },
  {
   "cell_type": "code",
   "execution_count": null,
   "id": "846dc499",
   "metadata": {},
   "outputs": [],
   "source": [
    "# Calculate summary statistics: mean, median, std for each metric grouped by Country\n",
    "summary_stats = df_all.groupby('Country')[['GHI', 'DNI', 'DHI']].agg(['mean', 'median', 'std'])\n",
    "\n",
    "# Flatten the MultiIndex columns for easier reading\n",
    "summary_stats.columns = ['_'.join(col).strip() for col in summary_stats.columns.values]\n",
    "\n",
    "# Display the summary table nicely\n",
    "print(\"Summary Statistics (Mean, Median, Std) for GHI, DNI, DHI by Country:\")\n",
    "display(summary_stats)\n",
    "\n"
   ]
  },
  {
   "cell_type": "markdown",
   "id": "3a7c4ec3",
   "metadata": {},
   "source": [
    "# Statistical testing (One-way ANOVA and Kruskal-Wallis test)"
   ]
  },
  {
   "cell_type": "code",
   "execution_count": null,
   "id": "8e08f882",
   "metadata": {},
   "outputs": [],
   "source": [
    "# Extract GHI values per country\n",
    "ghi_benin = df_benin['GHI']\n",
    "ghi_togo = df_togo['GHI']\n",
    "ghi_sierra = df_sierra['GHI']\n",
    "\n",
    "# Run One-way ANOVA test\n",
    "anova_result = f_oneway(ghi_benin, ghi_togo, ghi_sierra)\n",
    "\n",
    "# Run Kruskal-Wallis test (non-parametric alternative)\n",
    "kruskal_result = kruskal(ghi_benin, ghi_togo, ghi_sierra)\n",
    "\n",
    "print(\"One-way ANOVA test result:\")\n",
    "print(f\"F-statistic: {anova_result.statistic:.4f}, p-value: {anova_result.pvalue:.4e}\")\n",
    "\n",
    "print(\"\\nKruskal-Wallis test result:\")\n",
    "print(f\"Statistic: {kruskal_result.statistic:.4f}, p-value: {kruskal_result.pvalue:.4e}\")\n"
   ]
  },
  {
   "cell_type": "markdown",
   "id": "8192feee",
   "metadata": {},
   "source": [
    "### Key Observations\n",
    "- The One-way ANOVA and Kruskal-Wallis tests indicate no statistically significant difference in GHI values among Benin, Togo, and Sierra Leone (p ≈ 1.0).\n",
    "- This suggests that solar irradiance levels are comparable across the three countries in the dataset.\n",
    "- Further investigation into other metrics like DNI and DHI or additional contextual factors may be needed for nuanced insights.\n",
    "\n",
    "\n"
   ]
  },
  {
   "cell_type": "markdown",
   "id": "b3d11e63",
   "metadata": {},
   "source": [
    "# Visual Summary"
   ]
  },
  {
   "cell_type": "code",
   "execution_count": null,
   "id": "577f6c8c",
   "metadata": {},
   "outputs": [],
   "source": [
    "# Bar chart ranking countries by average GHI\n",
    "avg_ghi = df_all.groupby('Country')['GHI'].mean().sort_values(ascending=False)\n",
    "plt.figure(figsize=(6, 4))\n",
    "# sns.barplot(x=avg_ghi.index, y=avg_ghi.values, palette='Set2')\n",
    "sns.barplot(x=avg_ghi.index, y=avg_ghi.values, hue=avg_ghi.index, palette='Set2', legend=False)\n",
    "plt.title('Average GHI by Country')\n",
    "plt.ylabel('Average GHI')\n",
    "plt.xlabel('Country')\n",
    "plt.tight_layout()\n",
    "plt.show()\n"
   ]
  }
 ],
 "metadata": {
  "kernelspec": {
   "display_name": "venv",
   "language": "python",
   "name": "python3"
  },
  "language_info": {
   "codemirror_mode": {
    "name": "ipython",
    "version": 3
   },
   "file_extension": ".py",
   "mimetype": "text/x-python",
   "name": "python",
   "nbconvert_exporter": "python",
   "pygments_lexer": "ipython3",
   "version": "3.8.18"
  }
 },
 "nbformat": 4,
 "nbformat_minor": 5
}
