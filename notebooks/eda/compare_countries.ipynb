{
 "cells": [
  {
   "cell_type": "markdown",
   "id": "0c334a51",
   "metadata": {},
   "source": [
    "# Task-3 "
   ]
  },
  {
   "cell_type": "code",
   "execution_count": null,
   "id": "c0088555",
   "metadata": {},
   "outputs": [],
   "source": [
    "import pandas as pd\n",
    "import matplotlib.pyplot as plt\n",
    "import seaborn as sns\n",
    "from scipy.stats import f_oneway, kruskal\n",
    "\n",
    "# Load cleaned datasets\n",
    "df_benin = pd.read_csv('../../data/clean/benin_clean.csv')\n",
    "df_togo = pd.read_csv('../../data/clean/togo_clean.csv')\n",
    "df_sierra = pd.read_csv('../../data/clean/sierra_leone_clean.csv')\n",
    "\n",
    "# Add a country column for easier plotting\n",
    "df_benin['Country'] = 'Benin'\n",
    "df_togo['Country'] = 'Togo'\n",
    "df_sierra['Country'] = 'Sierra Leone'\n",
    "\n",
    "# Combine all dataframes into one\n",
    "df_all = pd.concat([df_benin, df_togo, df_sierra], ignore_index=True)\n"
   ]
  },
  {
   "cell_type": "markdown",
   "id": "a81e3f4b",
   "metadata": {},
   "source": [
    "# Metric Comparison with Boxplots"
   ]
  },
  {
   "cell_type": "code",
   "execution_count": null,
   "metadata": {},
   "outputs": [],
   "source": [
    "# Set style\n",
    "sns.set(style=\"whitegrid\")\n",
    "\n",
    "# Create boxplots for GHI, DNI, and DHI\n",
    "for metric in ['GHI', 'DNI', 'DHI']:\n",
    "    plt.figure(figsize=(8, 5))\n",
    "    ax = sns.boxplot(x='Country', y=metric, hue='Country', data=df_all, palette='Set2')\n",
    "    \n",
    "    # Check if a legend exists, then remove it\n",
    "    if ax.get_legend() is not None:\n",
    "        ax.get_legend().remove()\n",
    "        \n",
    "    plt.title(f'Boxplot of {metric} by Country')\n",
    "    plt.xlabel('Country')\n",
    "    plt.ylabel(metric)\n",
    "    plt.tight_layout()\n",
    "    plt.show()\n"
   ]
  }
 ],
 "metadata": {
  "kernelspec": {
   "display_name": "venv",
   "language": "python",
   "name": "python3"
  },
  "language_info": {
   "codemirror_mode": {
    "name": "ipython",
    "version": 3
   },
   "file_extension": ".py",
   "mimetype": "text/x-python",
   "name": "python",
   "nbconvert_exporter": "python",
   "pygments_lexer": "ipython3",
   "version": "3.8.18"
  }
 },
 "nbformat": 4,
 "nbformat_minor": 5
}
