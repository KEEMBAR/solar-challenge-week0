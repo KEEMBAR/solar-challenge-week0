{
 "cells": [
  {
   "cell_type": "code",
   "execution_count": null,
   "id": "4abf9b7b",
   "metadata": {},
   "outputs": [],
   "source": [
    "import pandas as pd\n",
    "import numpy as np\n",
    "import matplotlib.pyplot as plt\n",
    "import seaborn as sns\n",
    "from scipy.stats import zscore\n",
    "import os\n",
    "from windrose import WindroseAxes\n",
    "import matplotlib.pyplot as plt\n",
    "# Ensure all columns are shown horizontally\n",
    "pd.set_option('display.max_columns', None)\n",
    "pd.set_option('display.width', 200)  # You can increase this if needed"
   ]
  },
  {
   "cell_type": "markdown",
   "id": "3f8be632",
   "metadata": {},
   "source": [
    "# Loading Togo Data\n"
   ]
  },
  {
   "cell_type": "code",
   "execution_count": null,
   "id": "02a5e727",
   "metadata": {},
   "outputs": [],
   "source": [
    "# Load Benin data\n",
    "df_togo = pd.read_csv('../../data/raw/benin-malanville.csv')\n"
   ]
  },
  {
   "cell_type": "markdown",
   "id": "73131bf9",
   "metadata": {},
   "source": [
    "# 1. Summary Statistics & Missing-Value Report\n"
   ]
  },
  {
   "cell_type": "code",
   "execution_count": null,
   "id": "7e4d66ca",
   "metadata": {},
   "outputs": [],
   "source": [
    "# Overview of the numeric columns of togo data\n",
    "# This shows count, mean, std dev, min, max, and quartiles\n",
    "print(\"Overview of the numeric columns of togo data\")\n",
    "print(df_togo.describe())\n",
    "# Overview of the categorical columns of togo data\n",
    "# This shows the number of unique values, top value, and frequency of the top value\n",
    "print(\"................................... \")\n",
    "print(\"Overview of the categorical columns of togo data\")\n",
    "print(df_togo.describe(include='object'))\n",
    "# Overview of all columns of togo data\n",
    "print(\"................................... \")\n",
    "print(\"Overview of all columns of togo data\")  \n",
    "print(df_togo.describe(include='all'))\n",
    "# Overview of the dataset, the first 5 rows\n",
    "print(\"................................... \")   \n",
    "print(\"Overview of the dataset, the first 5 rows\")\n",
    "print(df_togo.head(5))\n",
    "# Overview of the dataset, the last 5 rows\n",
    "print(\"................................... \")   \n",
    "print(\"Overview of the dataset, the last 5 rows\")\n",
    "print(df_togo.tail(5))\n",
    "# Overview of the dataset, the random 5 rows\n",
    "print(\"................................... \")\n",
    "print(\"Overview of the dataset, the random 5 rows\")\n",
    "print(df_togo.sample(5))\n",
    "# Overview of the dataset, the shape of the dataset\n",
    "print(\"................................... \")\n",
    "print(\"Overview of the dataset, the shape of the dataset\")\n",
    "print(df_togo.info())\n",
    "# Check for missing values\n",
    "print(\"................................... \")\n",
    "print(\"Check for missing values\")\n",
    "print(df_togo.isnull().sum())\n",
    "print(\"................................... \")\n",
    "# Columns with >5% missing values\n",
    "print(\"\\nColumns with more than 5% missing values:\")\n",
    "# Calculate the percentage of missing values for each column\n",
    "missing_percent = df_togo.isnull().mean() * 100\n",
    "\n",
    "# Filter columns with more than 5% missing values and print them\n",
    "cols_above_5pct_null = missing_percent[missing_percent > 5]\n",
    "print(cols_above_5pct_null)\n"
   ]
  },
  {
   "cell_type": "markdown",
   "id": "df938101",
   "metadata": {},
   "source": [
    "# 2. Outlier Detection & Basic Cleaning"
   ]
  },
  {
   "cell_type": "code",
   "execution_count": null,
   "id": "d9fa616e",
   "metadata": {},
   "outputs": [],
   "source": [
    "print(\"Starting outlier and missing value analysis...\")\n",
    "\n",
    "# Define key columns to check\n",
    "key_columns = ['GHI', 'DNI', 'DHI', 'ModA', 'ModB', 'WS', 'WSgust']\n",
    "# Check missing values in key columns\n",
    "print(\"Missing values in key columns before imputation:\")\n",
    "print(df_togo[key_columns].isnull().sum())\n",
    "print(\"................................... \")\n",
    "# Calculate Z-scores\n",
    "z_scores = df_togo[key_columns].apply(zscore)\n",
    "\n",
    "# Flag outliers (|Z| > 3)\n",
    "outliers = (np.abs(z_scores) > 3)\n",
    "\n",
    "# Count of outliers per column\n",
    "print(\"Number of outliers in each key column:\")\n",
    "print(outliers.sum())\n",
    "print(\"................................... \")\n",
    "\n",
    "# Rows flagged as outliers in any key column\n",
    "print(\"Rows flagged as outliers in any key column:\")\n",
    "outlier_rows = df_togo[outliers.any(axis=1)]\n",
    "print(f\"Total rows with outliers in any key column: {len(outlier_rows)}\")\n",
    "print(\"................................... \")\n",
    "\n",
    "# Impute outliers (|Z| > 3) with median of the column\n",
    "print(\"Impute outliers (|Z| > 3) with median of the column\")\n",
    "for col in key_columns:\n",
    "    median_val = df_togo[col].median()\n",
    "    df_togo.loc[outliers[col], col] = median_val\n",
    "    print(f\"{outliers[col].sum()} outliers in '{col}' replaced with median ({median_val})\")\n",
    "print(\"................................... \")\n",
    "\n",
    "\n",
    "# Confirm no missing values remain\n",
    "print(\"Remaining missing values after imputation:\")\n",
    "print(df_togo[key_columns].isnull().sum())\n",
    "print(\"................................... \")\n"
   ]
  },
  {
   "cell_type": "markdown",
   "id": "bdba6a3a",
   "metadata": {},
   "source": [
    "# Exporting cleaned Benin data to CSV"
   ]
  },
  {
   "cell_type": "code",
   "execution_count": null,
   "id": "fa4b20f1",
   "metadata": {},
   "outputs": [],
   "source": [
    "# Exporting cleaned Benin data to CSV (do NOT commit this to Git)\n",
    "df_togo.to_csv('../../data/clean/togo_clean.csv', index=False)\n"
   ]
  },
  {
   "cell_type": "markdown",
   "id": "d4257d59",
   "metadata": {},
   "source": [
    "# 3. Time Series Analysis\n"
   ]
  },
  {
   "cell_type": "code",
   "execution_count": null,
   "id": "78997b89",
   "metadata": {},
   "outputs": [],
   "source": [
    "# Convert Timestamp to datetime if not already\n",
    "df_togo['Timestamp'] = pd.to_datetime(df_togo['Timestamp'], errors='coerce')\n",
    "\n",
    "# Set Timestamp as index (if not already)\n",
    "df_togo.set_index('Timestamp', inplace=True)\n",
    "\n",
    "\n",
    "# Plot GHI, DNI, DHI, and Tamb\n",
    "plt.figure(figsize=(16, 8))\n",
    "\n",
    "plt.subplot(2, 2, 1)\n",
    "df_togo['GHI'].plot()\n",
    "plt.title('Global Horizontal Irradiance (GHI) Over Time')\n",
    "plt.ylabel('GHI (W/m²)')\n",
    "\n",
    "plt.subplot(2, 2, 2)\n",
    "df_togo['DNI'].plot()\n",
    "plt.title('Direct Normal Irradiance (DNI) Over Time')\n",
    "plt.ylabel('DNI (W/m²)')\n",
    "\n",
    "plt.subplot(2, 2, 3)\n",
    "df_togo['DHI'].plot()\n",
    "plt.title('Diffuse Horizontal Irradiance (DHI) Over Time')\n",
    "plt.ylabel('DHI (W/m²)')\n",
    "\n",
    "plt.subplot(2, 2, 4)\n",
    "df_togo['Tamb'].plot()\n",
    "plt.title('Ambient Temperature (Tamb) Over Time')\n",
    "plt.ylabel('Temperature (°C)')\n",
    "\n",
    "plt.tight_layout()\n",
    "plt.show()\n",
    "\n",
    "# Add month column\n",
    "df_togo['Month'] = df_togo.index.month\n",
    "\n",
    "# Monthly mean plots\n",
    "monthly_means = df_togo.groupby('Month')[['GHI', 'DNI', 'DHI', 'Tamb']].mean()\n",
    "\n",
    "monthly_means.plot(kind='bar', figsize=(10,6))\n",
    "plt.title('Monthly Average of GHI, DNI, DHI, Tamb')\n",
    "plt.ylabel('Value')\n",
    "plt.xlabel('Month')\n",
    "plt.xticks(rotation=0)\n",
    "plt.grid(True)\n",
    "plt.tight_layout()\n",
    "plt.show()\n"
   ]
  },
  {
   "cell_type": "markdown",
   "id": "191c1343",
   "metadata": {},
   "source": [
    "# 4. Cleaning Impact"
   ]
  },
  {
   "cell_type": "code",
   "execution_count": null,
   "id": "b1c34fc9",
   "metadata": {},
   "outputs": [],
   "source": [
    "# Group by 'Cleaning' and calculate average of ModA and ModB\n",
    "cleaning_impact = df_togo.groupby('Cleaning')[['ModA', 'ModB']].mean()\n",
    "\n",
    "# Display the averages\n",
    "print(\"Average ModA and ModB values grouped by Cleaning status:\")\n",
    "print(cleaning_impact)\n",
    "\n",
    "# Plot the impact of cleaning on ModA and ModB\n",
    "cleaning_impact.plot(kind='bar', figsize=(8, 5))\n",
    "plt.title('Impact of Cleaning on ModA & ModB Sensor Readings')\n",
    "plt.ylabel('Average Sensor Value')\n",
    "plt.xlabel('Cleaning Status')\n",
    "plt.xticks(rotation=0)\n",
    "plt.grid(True)\n",
    "plt.tight_layout()\n",
    "plt.show()\n"
   ]
  },
  {
   "cell_type": "markdown",
   "id": "f05bc9aa",
   "metadata": {},
   "source": [
    "# 5. Correlation and Relationship Analysis\n"
   ]
  },
  {
   "cell_type": "code",
   "execution_count": null,
   "id": "059eba38",
   "metadata": {},
   "outputs": [],
   "source": [
    "# Correlation matrix\n",
    "corr_matrix = df_togo[['GHI', 'DNI', 'DHI', 'TModA', 'TModB']].corr()\n",
    "\n",
    "# Plot heatmap\n",
    "plt.figure(figsize=(8, 6))\n",
    "sns.heatmap(corr_matrix, annot=True, cmap='coolwarm', fmt=\".2f\")\n",
    "plt.title(\"Correlation Heatmap - Solar and Module Temperatures\")\n",
    "plt.tight_layout()\n",
    "plt.show()\n",
    "\n",
    "# Scatter plots for each pair of variables\n",
    "# WS vs GHI\n",
    "print(\"Scatter plot of Wind Speed vs. Global Horizontal Irradiance (GHI):\")\n",
    "plt.scatter(df_togo['WS'], df_togo['GHI'], alpha=0.5)\n",
    "plt.title('Wind Speed vs. Global Horizontal Irradiance (GHI)')\n",
    "plt.xlabel('Wind Speed (m/s)')\n",
    "plt.ylabel('GHI (W/m²)')\n",
    "plt.grid(True)\n",
    "plt.show()\n",
    "\n",
    "# RH vs Tamb\n",
    "print(\"Scatter plot of Relative Humidity vs. Ambient Temperature:\")\n",
    "plt.scatter(df_togo['RH'], df_togo['Tamb'], alpha=0.5, color='orange')\n",
    "plt.title('Relative Humidity vs. Ambient Temperature')\n",
    "plt.xlabel('Relative Humidity (%)')\n",
    "plt.ylabel('Tamb (°C)')\n",
    "plt.grid(True)\n",
    "plt.show()\n"
   ]
  },
  {
   "cell_type": "markdown",
   "id": "25bffb0a",
   "metadata": {},
   "source": [
    "# 6. Wind and Distribution Analysis"
   ]
  },
  {
   "cell_type": "code",
   "execution_count": null,
   "id": "5caced60",
   "metadata": {},
   "outputs": [],
   "source": [
    "# Drop NaNs from wind columns\n",
    "wind_data = df_togo[['WS', 'WD']].dropna()\n",
    "\n",
    "# Create Windrose plot\n",
    "print(\"windrose plot WS/WD\")\n",
    "ax = WindroseAxes.from_ax()\n",
    "ax.bar(wind_data['WD'], wind_data['WS'], normed=True, opening=0.8, edgecolor='white')\n",
    "ax.set_legend()\n",
    "plt.title('Wind Rose: Wind Speed vs Wind Direction')\n",
    "plt.show()\n",
    "\n",
    "# Histogram for GHI\n",
    "print(\"Histogram for GHI\")\n",
    "plt.figure(figsize=(10, 4))\n",
    "plt.hist(df_togo['GHI'].dropna(), bins=30, color='skyblue', edgecolor='black')\n",
    "plt.title('Distribution of GHI (Global Horizontal Irradiance)')\n",
    "plt.xlabel('GHI')\n",
    "plt.ylabel('Frequency')\n",
    "plt.grid(True)\n",
    "plt.show()\n",
    "\n",
    "# Histogram for WS (Wind Speed)\n",
    "print(\"Histogram for Wind Speed (WS)\")\n",
    "plt.figure(figsize=(10, 4))\n",
    "plt.hist(df_togo['WS'].dropna(), bins=30, color='salmon', edgecolor='black')\n",
    "plt.title('Distribution of Wind Speed (WS)')\n",
    "plt.xlabel('Wind Speed')\n",
    "plt.ylabel('Frequency')\n",
    "plt.grid(True)\n",
    "plt.show()\n"
   ]
  },
  {
   "cell_type": "markdown",
   "id": "35eab493",
   "metadata": {},
   "source": [
    "# 7. Temperature Analysis"
   ]
  },
  {
   "cell_type": "code",
   "execution_count": null,
   "id": "27032b0b",
   "metadata": {},
   "outputs": [],
   "source": [
    "# Drop rows with missing values in these columns to avoid plot issues\n",
    "rh_temp_ghi = df_togo[['RH', 'Tamb', 'GHI']].dropna()\n",
    "\n",
    "# Scatter plot RH vs Tamb\n",
    "print(\"Scatter plot of Relative Humidity (RH) vs Ambient Temperature (Tamb):\")\n",
    "plt.figure(figsize=(7,5))\n",
    "sns.scatterplot(data=rh_temp_ghi, x='RH', y='Tamb', color='teal')\n",
    "plt.title('Relative Humidity (RH) vs Ambient Temperature (Tamb)')\n",
    "plt.xlabel('Relative Humidity (%)')\n",
    "plt.ylabel('Ambient Temperature (°C)')\n",
    "plt.grid(True)\n",
    "plt.tight_layout()\n",
    "plt.show()\n",
    "\n",
    "# Scatter plot RH vs GHI\n",
    "print(\"Scatter plot of Relative Humidity (RH) vs Global Horizontal Irradiance (GHI):\")\n",
    "plt.figure(figsize=(7,5))\n",
    "sns.scatterplot(data=rh_temp_ghi, x='RH', y='GHI', color='purple')\n",
    "plt.title('Relative Humidity (RH) vs Global Horizontal Irradiance (GHI)')\n",
    "plt.xlabel('Relative Humidity (%)')\n",
    "plt.ylabel('GHI (W/m²)')\n",
    "plt.grid(True)\n",
    "plt.tight_layout()\n",
    "plt.show()\n",
    "\n",
    "# Correlation matrix for RH, Tamb, GHI\n",
    "print(\"Correlation matrix for RH, Tamb, GHI:\")\n",
    "corr = rh_temp_ghi.corr()\n",
    "print(\"Correlation matrix:\")\n",
    "print(corr[['RH', 'Tamb', 'GHI']])\n"
   ]
  },
  {
   "cell_type": "markdown",
   "id": "89cc8897",
   "metadata": {},
   "source": [
    "# 8. Bubble Chart"
   ]
  },
  {
   "cell_type": "code",
   "execution_count": null,
   "id": "4361afc2",
   "metadata": {},
   "outputs": [],
   "source": [
    "import seaborn as sns\n",
    "import matplotlib.pyplot as plt\n",
    "\n",
    "# Drop rows with missing values in these columns to avoid plot issues\n",
    "rh_temp_ghi = df_togo[['RH', 'Tamb', 'GHI']].dropna()\n",
    "\n",
    "# Scatter plot RH vs Tamb\n",
    "print(\"Scatter plot of Relative Humidity (RH) vs Ambient Temperature (Tamb):\")\n",
    "plt.figure(figsize=(7,5))\n",
    "sns.scatterplot(data=rh_temp_ghi, x='RH', y='Tamb', color='teal')\n",
    "plt.title('Relative Humidity (RH) vs Ambient Temperature (Tamb)')\n",
    "plt.xlabel('Relative Humidity (%)')\n",
    "plt.ylabel('Ambient Temperature (°C)')\n",
    "plt.grid(True)\n",
    "plt.tight_layout()\n",
    "plt.show()\n",
    "\n",
    "# Scatter plot RH vs GHI\n",
    "print(\"Scatter plot of Relative Humidity (RH) vs Global Horizontal Irradiance (GHI):\")\n",
    "plt.figure(figsize=(7,5))\n",
    "sns.scatterplot(data=rh_temp_ghi, x='RH', y='GHI', color='purple')\n",
    "plt.title('Relative Humidity (RH) vs Global Horizontal Irradiance (GHI)')\n",
    "plt.xlabel('Relative Humidity (%)')\n",
    "plt.ylabel('GHI (W/m²)')\n",
    "plt.grid(True)\n",
    "plt.tight_layout()\n",
    "plt.show()\n",
    "\n",
    "# Correlation matrix for RH, Tamb, GHI\n",
    "print(\"Correlation matrix for RH, Tamb, GHI:\")\n",
    "corr = rh_temp_ghi.corr()\n",
    "print(\"Correlation matrix:\")\n",
    "print(corr[['RH', 'Tamb', 'GHI']])\n"
   ]
  }
 ],
 "metadata": {
  "kernelspec": {
   "display_name": "venv",
   "language": "python",
   "name": "python3"
  },
  "language_info": {
   "codemirror_mode": {
    "name": "ipython",
    "version": 3
   },
   "file_extension": ".py",
   "mimetype": "text/x-python",
   "name": "python",
   "nbconvert_exporter": "python",
   "pygments_lexer": "ipython3",
   "version": "3.8.18"
  }
 },
 "nbformat": 4,
 "nbformat_minor": 5
}
